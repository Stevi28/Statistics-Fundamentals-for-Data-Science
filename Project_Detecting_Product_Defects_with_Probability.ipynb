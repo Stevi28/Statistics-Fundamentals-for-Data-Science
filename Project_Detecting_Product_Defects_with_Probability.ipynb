{
  "nbformat": 4,
  "nbformat_minor": 0,
  "metadata": {
    "colab": {
      "provenance": []
    },
    "kernelspec": {
      "name": "python3",
      "display_name": "Python 3"
    },
    "language_info": {
      "name": "python"
    }
  },
  "cells": [
    {
      "cell_type": "markdown",
      "source": [
        "You are in charge of monitoring the number of defective products from a specific factory. You’ve been told that the number of defects on a given day follows the Poisson distribution with the rate parameter (lambda) equal to 7. You’re new here, so you want to get a feel for what it means to follow the Poisson(7) distribution. You remember that the Poisson distribution is special because the rate parameter represents the expected value of the distribution, so in this case, the expected value of the Poisson(7) distribution is 7 defects per day.\n",
        "\n",
        "You will investigate certain attributes of the Poisson(7) distribution to get an intuition for how many defective objects you should expect to see in a given amount of time. You will also practice and apply what you know about the Poisson distribution on a practice data set that you will simulate yourself."
      ],
      "metadata": {
        "id": "m5NFsm462usz"
      }
    },
    {
      "cell_type": "code",
      "source": [
        "import scipy.stats as stats\n",
        "import numpy as np"
      ],
      "metadata": {
        "id": "6eHYw8gc3Zwc"
      },
      "execution_count": 1,
      "outputs": []
    },
    {
      "cell_type": "markdown",
      "source": [
        "* **Distribution in Theory**"
      ],
      "metadata": {
        "id": "W13HOHfQ2_4D"
      }
    },
    {
      "cell_type": "code",
      "execution_count": 2,
      "metadata": {
        "id": "Gctd7Bv72Q4Q"
      },
      "outputs": [],
      "source": [
        "lam = 7"
      ]
    },
    {
      "cell_type": "markdown",
      "source": [
        "\n",
        "You know that the rate parameter of a Poisson distribution is equal to the expected value. So in our factory, the rate parameter would equal the expected number of defects on a given day. You are curious about how often we might observe the exact expected number of defects."
      ],
      "metadata": {
        "id": "XBc-PatL4l-a"
      }
    },
    {
      "cell_type": "code",
      "source": [
        "# expected value = lam, probability of observing lam\n",
        "print(stats.poisson.pmf(lam, lam)) # the probability of observing exactly lam defects on a given day"
      ],
      "metadata": {
        "colab": {
          "base_uri": "https://localhost:8080/"
        },
        "id": "DnYK0uTa4o9B",
        "outputId": "089af495-b89e-4a72-ff22-10f88f03697e"
      },
      "execution_count": 3,
      "outputs": [
        {
          "output_type": "stream",
          "name": "stdout",
          "text": [
            "0.14900277967433773\n"
          ]
        }
      ]
    },
    {
      "cell_type": "markdown",
      "source": [
        "The probability of observing exactly lam = 7 defects on a given day is almost 15% (expected value of defects = probability of observing specific values)"
      ],
      "metadata": {
        "id": "8LGYnNI06Sjz"
      }
    },
    {
      "cell_type": "markdown",
      "source": [
        "Our boss said that having 4 or fewer defects on a given day is an exceptionally good day. You are curious about how often that might happen."
      ],
      "metadata": {
        "id": "3eZ1T-X87o4F"
      }
    },
    {
      "cell_type": "code",
      "source": [
        "# expected value = lam, probability of observing 4 or less\n",
        "print(stats.poisson.cdf(4,lam))\n"
      ],
      "metadata": {
        "colab": {
          "base_uri": "https://localhost:8080/"
        },
        "id": "Rp4Ljz6I775L",
        "outputId": "66a7413e-d5b7-4b69-b039-185d37e08f70"
      },
      "execution_count": 4,
      "outputs": [
        {
          "output_type": "stream",
          "name": "stdout",
          "text": [
            "0.17299160788207146\n"
          ]
        }
      ]
    },
    {
      "cell_type": "markdown",
      "source": [
        "This means that there is roughly a 17.3% chance that there will be 4 or fewer defective products on a given day."
      ],
      "metadata": {
        "id": "Y-DeZIRA80Dr"
      }
    },
    {
      "cell_type": "markdown",
      "source": [
        "On the other hand, our boss said that having more than 9 defects on any given day is considered a bad day."
      ],
      "metadata": {
        "id": "5_MqMXYo9T1W"
      }
    },
    {
      "cell_type": "code",
      "source": [
        "# expected value = lam, probability of observing 9 or more\n",
        "print(1 - stats.poisson.cdf(9, lam))"
      ],
      "metadata": {
        "colab": {
          "base_uri": "https://localhost:8080/"
        },
        "id": "2YJmORiG9hnB",
        "outputId": "a469926e-33f8-457a-e16d-3b329d64e89e"
      },
      "execution_count": 5,
      "outputs": [
        {
          "output_type": "stream",
          "name": "stdout",
          "text": [
            "0.16950406276132668\n"
          ]
        }
      ]
    },
    {
      "cell_type": "markdown",
      "source": [
        "This means that there is roughly a 17% chance that there will be 9 or more defective products on any given day, and that day could be considered a bad day."
      ],
      "metadata": {
        "id": "ujy8DcfJ-vbW"
      }
    },
    {
      "cell_type": "markdown",
      "source": [
        "* **Distribution in Practice**"
      ],
      "metadata": {
        "id": "Ss-FVOdsADbw"
      }
    },
    {
      "cell_type": "markdown",
      "source": [
        "\n",
        "You’ve familiarized yourself a little bit about how the Poisson distribution works in theory by calculating different probabilities. But let’s look at what this might look like in practice."
      ],
      "metadata": {
        "id": "ZFtbL3EwAM5J"
      }
    },
    {
      "cell_type": "code",
      "source": [
        "\n",
        "# generate random variable for 365 values (1 year)\n",
        "# stats.poisson.rvs(lambda, size = num_values)\n",
        "year_defects = stats.poisson.rvs(lam, size = 365)\n",
        "# first 20 values\n",
        "print(year_defects[:20])"
      ],
      "metadata": {
        "colab": {
          "base_uri": "https://localhost:8080/"
        },
        "id": "ZtwM-M-tAXRJ",
        "outputId": "8b39f905-d4ec-488f-c745-05449f19318b"
      },
      "execution_count": 7,
      "outputs": [
        {
          "output_type": "stream",
          "name": "stdout",
          "text": [
            "[ 8  4  7  7  5  3 11  7  4  5  5  8  6  7  4 11  8  7  7  6]\n"
          ]
        }
      ]
    },
    {
      "cell_type": "code",
      "source": [
        "# We have preloaded a function histogram_function() that takes a list of random variables and plots them to a histogram.\n",
        "\n",
        "from histogram_function import histogram_function\n",
        "histogram_function(year_defects)"
      ],
      "metadata": {
        "colab": {
          "base_uri": "https://localhost:8080/",
          "height": 430
        },
        "id": "-jUeHAI4eXtk",
        "outputId": "780e00eb-fe25-4074-f15a-3964725ce1d9"
      },
      "execution_count": 16,
      "outputs": [
        {
          "output_type": "display_data",
          "data": {
            "text/plain": [
              "<Figure size 640x480 with 1 Axes>"
            ],
            "image/png": "[encoded data removed]"
          },
          "metadata": {}
        }
      ]
    },
    {
      "cell_type": "markdown",
      "source": [
        "\n",
        "If we expect 7 defects on a given day, what is the total number of defects we would expect over 365 days?"
      ],
      "metadata": {
        "id": "QjvN8iZ9C9Jb"
      }
    },
    {
      "cell_type": "code",
      "source": [
        "print(lam*365)\n"
      ],
      "metadata": {
        "colab": {
          "base_uri": "https://localhost:8080/"
        },
        "id": "winJBC1DDBP_",
        "outputId": "53af1a73-b4be-4a04-9ee1-54a83475e339"
      },
      "execution_count": 8,
      "outputs": [
        {
          "output_type": "stream",
          "name": "stdout",
          "text": [
            "2555\n"
          ]
        }
      ]
    },
    {
      "cell_type": "code",
      "source": [
        "# the total sum of the data set year_defects\n",
        "print(sum(year_defects))"
      ],
      "metadata": {
        "colab": {
          "base_uri": "https://localhost:8080/"
        },
        "id": "XV8DX-YNEbwW",
        "outputId": "76cbb3c8-283a-483b-e726-459c93ab523b"
      },
      "execution_count": 10,
      "outputs": [
        {
          "output_type": "stream",
          "name": "stdout",
          "text": [
            "2554\n"
          ]
        }
      ]
    },
    {
      "cell_type": "markdown",
      "source": [
        "If we assume that we will have an average of 7 defects per day, then we can expect to have a total of 2555 defects in a year. However, since the number of defects each day is random, it's unlikely that we will have exactly 7 defects on any given day. In one scenario, we may have 2555 defects in total for the year (7 * 365). In another scenario, we may have an average of 2500 defects per year (if we run the cell with the variable 'year_defects', we will get different results each time)."
      ],
      "metadata": {
        "id": "GqXZUuxQE4x0"
      }
    },
    {
      "cell_type": "markdown",
      "source": [
        "\n",
        "Calculate and print the average number of defects per day from our simulated dataset."
      ],
      "metadata": {
        "id": "7EkMk6jJIlei"
      }
    },
    {
      "cell_type": "code",
      "source": [
        "print(year_defects.mean())\n"
      ],
      "metadata": {
        "colab": {
          "base_uri": "https://localhost:8080/"
        },
        "id": "bbS2w5VMISeY",
        "outputId": "16ecdcc2-8785-4dbb-f060-ef4abc9b166f"
      },
      "execution_count": 11,
      "outputs": [
        {
          "output_type": "stream",
          "name": "stdout",
          "text": [
            "6.997260273972603\n"
          ]
        }
      ]
    },
    {
      "cell_type": "markdown",
      "source": [
        "The value obtained is very close to 7, which confirms that throughout 365 observations, the expected value or average is 7.\n",
        "\n",
        "When we refer to the expected value, we are talking about the average over many observations. This concept is closely related to the Law of Large Numbers, which states that as the number of samples increases, the probability of the samples resembling the true population also increases, and the mean of the samples approaches the expected value.\n",
        "\n",
        "So even if there were 8 defects on one day, 3 on another day, and 11 on the day after that, in the long run, after many days, the expected value or average would still be 7."
      ],
      "metadata": {
        "id": "dYWwCqdbJq4z"
      }
    },
    {
      "cell_type": "markdown",
      "source": [
        "\n",
        "You’re worried about what the highest amount of defects in a single day might be because that would be a hectic day."
      ],
      "metadata": {
        "id": "Vrc3pJISLhy8"
      }
    },
    {
      "cell_type": "code",
      "source": [
        "print(year_defects.max())\n"
      ],
      "metadata": {
        "colab": {
          "base_uri": "https://localhost:8080/"
        },
        "id": "Vtj90JZTLPOA",
        "outputId": "bcb0d883-f5af-4f84-c232-3456f514df72"
      },
      "execution_count": 12,
      "outputs": [
        {
          "output_type": "stream",
          "name": "stdout",
          "text": [
            "17\n"
          ]
        }
      ]
    },
    {
      "cell_type": "markdown",
      "source": [
        "\n",
        "Wow, it would probably be super busy if there were that many defects on a single day. Hopefully, it is a rare event!\n",
        "Let's calculate the probability of observing that maximum value or more on a single day."
      ],
      "metadata": {
        "id": "EYhizKzfMNO0"
      }
    },
    {
      "cell_type": "code",
      "source": [
        "# expected value = lam, probability of observing the maximum value or more\n",
        "print(1 - stats.poisson.cdf(year_defects.max(), lam))"
      ],
      "metadata": {
        "colab": {
          "base_uri": "https://localhost:8080/"
        },
        "id": "RhgCoMrcMltA",
        "outputId": "2bd1569e-c620-4b45-d77e-3467b2e59461"
      },
      "execution_count": 13,
      "outputs": [
        {
          "output_type": "stream",
          "name": "stdout",
          "text": [
            "0.00036178431660227606\n"
          ]
        }
      ]
    },
    {
      "cell_type": "markdown",
      "source": [
        "The probability is almost 0% to observe the maximum value of defects in one day."
      ],
      "metadata": {
        "id": "Vg8J1gE1NsoV"
      }
    },
    {
      "cell_type": "markdown",
      "source": [
        "Let’s say we want to know how many defects in a given day would put us in the 90th percentile of the Poisson(7) distribution."
      ],
      "metadata": {
        "id": "Iy5xQuZJOP2-"
      }
    },
    {
      "cell_type": "code",
      "source": [
        "# stats.poisson.ppf(percentile, lambda)\n",
        "print(stats.poisson.ppf(0.9, lam))"
      ],
      "metadata": {
        "colab": {
          "base_uri": "https://localhost:8080/"
        },
        "id": "8kO_Xv_CO4Kn",
        "outputId": "7bb5a824-ba5e-40be-8d38-261ed68cda62"
      },
      "execution_count": 14,
      "outputs": [
        {
          "output_type": "stream",
          "name": "stdout",
          "text": [
            "10.0\n"
          ]
        }
      ]
    },
    {
      "cell_type": "markdown",
      "source": [
        "**percentile** is equal to the desired percentile (a decimal between 0 and 1), and **lambda** is the lambda parameter of the Poisson distribution. This function is essentially the inverse of the CDF."
      ],
      "metadata": {
        "id": "OZmsGPEOaRw9"
      }
    },
    {
      "cell_type": "markdown",
      "source": [
        "The number of defects that would put us in the 90th percentile for a given day is 10. In other words, on 90% of days, we will observe fewer defects than this number (10)."
      ],
      "metadata": {
        "id": "EVapHLJKZgzn"
      }
    },
    {
      "cell_type": "markdown",
      "source": [
        "Now let’s see what proportion of our simulated dataset year_defects is greater than or equal to the number we calculated in the previous step. By definition of a percentile, we would expect 1 - .90, or about 10% of days to be in this range."
      ],
      "metadata": {
        "id": "F_PVSqOvbpTY"
      }
    },
    {
      "cell_type": "code",
      "source": [
        "print(sum(year_defects >= stats.poisson.ppf(0.9, lam))/ len(year_defects))"
      ],
      "metadata": {
        "colab": {
          "base_uri": "https://localhost:8080/"
        },
        "id": "945p3KGrZttP",
        "outputId": "34c9cedf-ceaa-4b43-8372-4c9ad4300f63"
      },
      "execution_count": 15,
      "outputs": [
        {
          "output_type": "stream",
          "name": "stdout",
          "text": [
            "0.14794520547945206\n"
          ]
        }
      ]
    },
    {
      "cell_type": "markdown",
      "source": [
        "The **numerator** tells us how many values in year_defects are greater than or equal to 10. Then we divide this value by the number of observations in the data set, which is 365, to get the proportion of days that have more than 10 defects. This proportion is almost 15%. This means that 15% of days have more than 10 defective products per day."
      ],
      "metadata": {
        "id": "uoSFRrHwcnEn"
      }
    }
  ]
}